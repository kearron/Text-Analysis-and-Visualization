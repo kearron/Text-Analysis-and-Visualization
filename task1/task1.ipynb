{
 "cells": [
  {
   "cell_type": "code",
   "execution_count": 3,
   "metadata": {},
   "outputs": [
    {
     "name": "stdout",
     "output_type": "stream",
     "text": [
      "a  =  202719\n",
      "b  =  34657\n",
      "c  =  61621\n",
      "d  =  118297\n",
      "e  =  313572\n",
      "f  =  54901\n",
      "g  =  51327\n",
      "h  =  167415\n",
      "i  =  172257\n",
      "j  =  2575\n",
      "k  =  20432\n",
      "l  =  96530\n",
      "m  =  61648\n",
      "n  =  184185\n",
      "o  =  190083\n",
      "p  =  45533\n",
      "q  =  2331\n",
      "r  =  148431\n",
      "s  =  162897\n",
      "t  =  226414\n",
      "u  =  64400\n",
      "v  =  27087\n",
      "w  =  59209\n",
      "x  =  4384\n",
      "y  =  46236\n",
      "z  =  2388\n"
     ]
    }
   ],
   "source": [
    "\n",
    "# 1. count frequency of letters in a text.file\n",
    "\n",
    "\n",
    "charcount = {} \n",
    "validchars = \"abcdefghijklmnopqrstuvwxyz\" \n",
    "with open('../war_n_peace.txt','r') as file: \n",
    "\n",
    "    for i in range(97,123): # lowercase range\n",
    "        c = (chr(i)) # the chars a-z\n",
    "        charcount[c] = 0 \n",
    "\n",
    "    for line in file:\n",
    "        words = line.split(\" \") # line into words\n",
    "        # print(words)\n",
    "        for word in words:  \n",
    "            chars = list(word) #convert word into a char list\n",
    "            # print(chars)\n",
    "            for c in chars:  \n",
    "                if c.isalpha(): \n",
    "                    if c.isupper():\n",
    "                        c = c.lower()  \n",
    "                    if c in validchars: # if in valid char set\n",
    "                        # print(c)\n",
    "                        charcount[c] += 1 \n",
    "\n",
    "    # print(charcount)\n",
    "    for key, value in sorted(charcount.items()):\n",
    "        print(key, ' = ', value)\n",
    "\n"
   ]
  },
  {
   "cell_type": "code",
   "execution_count": 6,
   "metadata": {},
   "outputs": [],
   "source": [
    "import csv\n",
    "with open('count_frequency_letter.csv','a') as f:\n",
    "   w = csv.DictWriter(f, fieldnames = [\"alphabet\", \"count\"])\n",
    "   w.writeheader()\n",
    "   w = csv.writer(f)\n",
    "   w.writerows(charcount.items())"
   ]
  },
  {
   "cell_type": "code",
   "execution_count": 9,
   "metadata": {},
   "outputs": [
    {
     "name": "stdout",
     "output_type": "stream",
     "text": [
      "Enter alphabet for which to count word frequency: r\n",
      "word frequency starting from alphabet r  =  2183\n"
     ]
    }
   ],
   "source": [
    "# 2. count word frequency from particular alphabet\n",
    "\n",
    "\n",
    "letter = input(\"Enter alphabet for which to count word frequency: \")\n",
    "letter = letter.lower()\n",
    "count = 0\n",
    "with open('../war_n_peace.txt','r') as text:\n",
    "    for line in text:\n",
    "        words = line.split(\" \")\n",
    "        for word in words:\n",
    "            # word = list(word)\n",
    "            # print(word)\n",
    "            if word:\n",
    "                # print(word[0])\n",
    "                if word[0].isalpha():\n",
    "                    if word[0].isupper():\n",
    "                        first_letter = word[0].lower()\n",
    "                \n",
    "                        if first_letter == letter:\n",
    "                            # print(word[0])\n",
    "                            count +=1\n",
    "    print(\"word frequency starting from alphabet\",letter,\" = \",count )"
   ]
  },
  {
   "cell_type": "code",
   "execution_count": 10,
   "metadata": {},
   "outputs": [
    {
     "name": "stdout",
     "output_type": "stream",
     "text": [
      "Total vowel frequency:  943031\n",
      "Total consonant frequency:  1589167\n"
     ]
    }
   ],
   "source": [
    "#3. count consonant and vowel frequency\n",
    "\n",
    "\n",
    "vowels_char = \"aeiou\"\n",
    "vowels = 0\n",
    "consonants = 0\n",
    "with open('../war_n_peace.txt','r') as file:\n",
    "   for line in file:\n",
    "       words = line.split(\" \")\n",
    "       for word in words:\n",
    "           # print(word)\n",
    "           for c in word:\n",
    "               if c.isalpha():\n",
    "                   if c.isupper():\n",
    "                       c = c.lower()\n",
    "                   if c in vowels_char:\n",
    "                       vowels += 1\n",
    "                   else:\n",
    "                       consonants +=1\n",
    "   print(\"Total vowel frequency: \",vowels)\n",
    "   print(\"Total consonant frequency: \",consonants)\n"
   ]
  },
  {
   "cell_type": "code",
   "execution_count": null,
   "metadata": {},
   "outputs": [],
   "source": [
    "letter_type = {'vowel':vowels,'consonant':consonants}    \n",
    "with open('count_letter_type.csv','a') as f:\n",
    "   w = csv.DictWriter(f, fieldnames = [\"letter_type\", \"count\"])\n",
    "   w.writeheader()\n",
    "   w = csv.writer(f)\n",
    "   w.writerows(letter_type.items())"
   ]
  },
  {
   "cell_type": "code",
   "execution_count": 11,
   "metadata": {},
   "outputs": [
    {
     "name": "stdout",
     "output_type": "stream",
     "text": [
      "Total words starting with 'a' and ending with 'e':  3124\n"
     ]
    }
   ],
   "source": [
    "#4. count word starting with a and ending with e\n",
    "\n",
    "import re\n",
    "\n",
    "\n",
    "a_word_e = 0\n",
    "with open('../war_n_peace.txt','r') as file:\n",
    "    for line in file:\n",
    "        words = line.split(\" \")\n",
    "        for word in words:\n",
    "            # print(word)\n",
    "            if len(word) > 1:\n",
    "                regex = re.compile('[,.;@_!#$%^&*()<>?/\\|}{~:]')\n",
    "                # print(word)\n",
    "                if bool(regex.search(word[-1])): #remove last character of word if is special character\n",
    "                    # print(word)\n",
    "                    word = word[:-1]\n",
    "                # print(word)\n",
    "                if len(word) > 1:\n",
    "                    # print(word)\n",
    "                    if word[0].isalpha() and word[-1].isalpha():\n",
    "                        if word[0].lower() == 'a' and word[-1].lower() == 'e':\n",
    "                            # print(word)\n",
    "                            a_word_e += 1\n",
    "    print(\"Total words starting with 'a' and ending with 'e': \",a_word_e)"
   ]
  },
  {
   "cell_type": "code",
   "execution_count": null,
   "metadata": {},
   "outputs": [],
   "source": []
  }
 ],
 "metadata": {
  "kernelspec": {
   "display_name": "Python 3",
   "language": "python",
   "name": "python3"
  },
  "language_info": {
   "codemirror_mode": {
    "name": "ipython",
    "version": 3
   },
   "file_extension": ".py",
   "mimetype": "text/x-python",
   "name": "python",
   "nbconvert_exporter": "python",
   "pygments_lexer": "ipython3",
   "version": "3.6.8"
  }
 },
 "nbformat": 4,
 "nbformat_minor": 2
}
