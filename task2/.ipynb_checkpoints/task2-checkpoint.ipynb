{
 "cells": [
  {
   "cell_type": "code",
   "execution_count": 1,
   "metadata": {},
   "outputs": [
    {
     "ename": "ModuleNotFoundError",
     "evalue": "No module named 'nltk'",
     "output_type": "error",
     "traceback": [
      "\u001b[0;31m---------------------------------------------------------------------------\u001b[0m",
      "\u001b[0;31mModuleNotFoundError\u001b[0m                       Traceback (most recent call last)",
      "\u001b[0;32m<ipython-input-1-20cadcce9d16>\u001b[0m in \u001b[0;36m<module>\u001b[0;34m\u001b[0m\n\u001b[1;32m      1\u001b[0m \u001b[0;31m# 2.Find frequency of stop words\u001b[0m\u001b[0;34m\u001b[0m\u001b[0;34m\u001b[0m\u001b[0;34m\u001b[0m\u001b[0m\n\u001b[1;32m      2\u001b[0m \u001b[0;32mimport\u001b[0m \u001b[0mre\u001b[0m\u001b[0;34m\u001b[0m\u001b[0;34m\u001b[0m\u001b[0m\n\u001b[0;32m----> 3\u001b[0;31m \u001b[0;32mfrom\u001b[0m \u001b[0mnltk\u001b[0m\u001b[0;34m.\u001b[0m\u001b[0mcorpus\u001b[0m \u001b[0;32mimport\u001b[0m \u001b[0mstopwords\u001b[0m\u001b[0;34m\u001b[0m\u001b[0;34m\u001b[0m\u001b[0m\n\u001b[0m\u001b[1;32m      4\u001b[0m \u001b[0;34m\u001b[0m\u001b[0m\n\u001b[1;32m      5\u001b[0m \u001b[0mstop_words\u001b[0m \u001b[0;34m=\u001b[0m \u001b[0;34m{\u001b[0m\u001b[0;34m}\u001b[0m\u001b[0;34m\u001b[0m\u001b[0;34m\u001b[0m\u001b[0m\n",
      "\u001b[0;31mModuleNotFoundError\u001b[0m: No module named 'nltk'"
     ]
    }
   ],
   "source": [
    "# SubTask 2:\n",
    "# 1.Find word count,\n",
    "\n",
    "# find the longest and shortest word and there frequency,\n",
    "# find top 100 verbs, nouns, adjectives and adverbs,find their composition of text based on part of speech ( like 10% is noun, 20% is verb ..) ,\n",
    "# find top 100 noun-noun phrase and noun-verb pair .\n",
    "import re\n",
    "\n",
    "word_count = {}\n",
    "with open('./war_n_peace.txt','r') as file:\n",
    "   for line in file:\n",
    "       words = line.split(\" \")\n",
    "       for word in words:\n",
    "           word = re.sub('[^A-Za-z]','',word) #remove character other than A-Z, a-z\n",
    "           if word not in word_count:\n",
    "               word_count[word] = 1\n",
    "           else:\n",
    "               word_count[word] += 1\n",
    "   for key,value in word_count.items():\n",
    "       print(key,\": \",value)"
   ]
  },
  {
   "cell_type": "code",
   "execution_count": null,
   "metadata": {},
   "outputs": [],
   "source": [
    "# 2.Find frequency of stop words\n",
    "import re\n",
    "from nltk.corpus import stopwords\n",
    "\n",
    "stop_words = {}\n",
    "with open('./war_n_peace.txt','r') as file:\n",
    "\n",
    "    for line in file:\n",
    "        # print(line)\n",
    "        words = line.split(\" \")\n",
    "        for word in words:\n",
    "            # print(words)\n",
    "            word = re.sub('[^A-Za-z]','',word)\n",
    "            # word = word.lower()\n",
    "            # print(word)\n",
    "            if word in stopwords.words('english'):\n",
    "                if word not in stop_words:\n",
    "                    stop_words[word] = 1\n",
    "                else:\n",
    "                    stop_words[word] += 1\n",
    "                \n",
    "    print(\"Frequency of Stopwords: \", stop_words)"
   ]
  },
  {
   "cell_type": "code",
   "execution_count": null,
   "metadata": {},
   "outputs": [],
   "source": [
    "# 3. find frequency of top 100 words excluding stop words,\n",
    "\n",
    "import re\n",
    "from nltk.corpus import stopwords\n",
    "\n",
    "other_words = {}\n",
    "with open('./war_n_peace.txt','r') as file:\n",
    "\n",
    "    for line in file:\n",
    "        # print(line)\n",
    "        words = line.split(\" \")\n",
    "        for word in words:\n",
    "            # print(words)\n",
    "            word = re.sub('[^A-Za-z]','',word)\n",
    "            # word = word.lower()\n",
    "            # print(word)\n",
    "            if word not in stopwords.words('english'):\n",
    "                if word not in other_words:\n",
    "                    other_words[word] = 1\n",
    "                else:\n",
    "                    other_words[word] += 1\n",
    "    count = 0\n",
    "    for key,value in other_words.items():\n",
    "        print(key,\": \",value)\n",
    "        count += 1\n",
    "        if count == 100:\n",
    "            break\n",
    "        \n",
    "    "
   ]
  }
 ],
 "metadata": {
  "kernelspec": {
   "display_name": "Python 3",
   "language": "python",
   "name": "python3"
  },
  "language_info": {
   "codemirror_mode": {
    "name": "ipython",
    "version": 3
   },
   "file_extension": ".py",
   "mimetype": "text/x-python",
   "name": "python",
   "nbconvert_exporter": "python",
   "pygments_lexer": "ipython3",
   "version": "3.6.8"
  }
 },
 "nbformat": 4,
 "nbformat_minor": 2
}
