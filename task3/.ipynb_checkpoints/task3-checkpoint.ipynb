{
 "cells": [
  {
   "cell_type": "code",
   "execution_count": 2,
   "metadata": {},
   "outputs": [
    {
     "ename": "ModuleNotFoundError",
     "evalue": "No module named 'nltk'",
     "output_type": "error",
     "traceback": [
      "\u001b[0;31m---------------------------------------------------------------------------\u001b[0m",
      "\u001b[0;31mModuleNotFoundError\u001b[0m                       Traceback (most recent call last)",
      "\u001b[0;32m<ipython-input-2-e47a7e25695d>\u001b[0m in \u001b[0;36m<module>\u001b[0;34m\u001b[0m\n\u001b[0;32m----> 1\u001b[0;31m \u001b[0;32mimport\u001b[0m \u001b[0mnltk\u001b[0m\u001b[0;34m\u001b[0m\u001b[0;34m\u001b[0m\u001b[0m\n\u001b[0m\u001b[1;32m      2\u001b[0m \u001b[0;34m\u001b[0m\u001b[0m\n\u001b[1;32m      3\u001b[0m \u001b[0mnltk\u001b[0m\u001b[0;34m.\u001b[0m\u001b[0mdownload\u001b[0m\u001b[0;34m(\u001b[0m\u001b[0;34m'punkt'\u001b[0m\u001b[0;34m)\u001b[0m\u001b[0;34m\u001b[0m\u001b[0;34m\u001b[0m\u001b[0m\n\u001b[1;32m      4\u001b[0m \u001b[0;32mimport\u001b[0m \u001b[0mre\u001b[0m\u001b[0;34m\u001b[0m\u001b[0;34m\u001b[0m\u001b[0m\n\u001b[1;32m      5\u001b[0m \u001b[0;32mfrom\u001b[0m \u001b[0mnltk\u001b[0m\u001b[0;34m.\u001b[0m\u001b[0mtokenize\u001b[0m \u001b[0;32mimport\u001b[0m \u001b[0msent_tokenize\u001b[0m\u001b[0;34m,\u001b[0m\u001b[0mword_tokenize\u001b[0m\u001b[0;34m\u001b[0m\u001b[0;34m\u001b[0m\u001b[0m\n",
      "\u001b[0;31mModuleNotFoundError\u001b[0m: No module named 'nltk'"
     ]
    }
   ],
   "source": [
    "import nltk\n",
    "\n",
    "nltk.download('punkt')\n",
    "import re\n",
    "from nltk.tokenize import sent_tokenize,word_tokenize\n",
    "import csv\n",
    "import matplotlib.pyplot as plt\n",
    "\n",
    "count_sent = 0\n",
    "sent_dict = {}\n",
    "with open('../war_n_peace.txt','r') as file:\n",
    "    texts = sent_tokenize(file.read())\n",
    "    for sent in texts:\n",
    "        count_sent += 1\n",
    "        sent_dict[sent] =len(sent) \n",
    "\n",
    "print(\"Total number of sentences: \",count_sent)\n",
    "sorted_sent = sorted(sent_dict.items(),key=lambda i: i[1],reverse=True)\n",
    "print(\"\\nLongest sentences: \")\n",
    "print(sorted_sent[0][0],\": \",sorted_sent[0][1])\n",
    "print(\"\\nShortest sentences: \")\n",
    "print(sorted_sent[-1][0],\": \",sorted_sent[-1][1])\n",
    "\n"
   ]
  },
  {
   "cell_type": "code",
   "execution_count": null,
   "metadata": {},
   "outputs": [],
   "source": [
    "\n"
   ]
  },
  {
   "cell_type": "code",
   "execution_count": null,
   "metadata": {},
   "outputs": [],
   "source": [
    "# for csv file\n",
    "\n",
    "sentence_length_dict = {'longest':sorted_sent[1][1],'shortest':sorted_sent[-3][1]}\n",
    "with open('sentence_longest_shortest.csv','a') as file:\n",
    "  w = csv.DictWriter(file,fieldnames=['sentence','letter_count'])\n",
    "  w.writeheader()\n",
    "  w = csv.writer(file)\n",
    "  w.writerows(sentence_length_dict.items())\n"
   ]
  },
  {
   "cell_type": "code",
   "execution_count": null,
   "metadata": {},
   "outputs": [],
   "source": [
    "# for visualization\n",
    "plt.bar(sentence_length_dict.keys(),sentence_length_dict.values(),color='g')\n",
    "plt.xlabel('sentence')\n",
    "plt.ylabel('count of letters')\n",
    "plt.title('Longest and Shortest Sentence %')\n",
    "plt.show()"
   ]
  },
  {
   "cell_type": "code",
   "execution_count": null,
   "metadata": {},
   "outputs": [],
   "source": [
    "sorted_sent = dict(sorted_sent)\n",
    "\n",
    "# for csv file\n",
    "sentence_top_100 = itertools.islice(sorted_sent.items(),0,100)\n",
    "sentence_top_100 = dict(sentence_top_100)\n",
    "with open('sentence_top_100.csv','a') as file:\n",
    "  w = csv.DictWriter(file,fieldnames=['sentence','letter_count'])\n",
    "  w.writeheader()\n",
    "  w = csv.writer(file)\n",
    "  w.writerows(sentence_top_100.items())"
   ]
  },
  {
   "cell_type": "code",
   "execution_count": null,
   "metadata": {},
   "outputs": [],
   "source": [
    "# for visualization\n",
    "plt.bar(range(len(sentence_top_100)),sentence_top_100.values(),color='b')\n",
    "plt.xlabel('sentence')\n",
    "plt.ylabel('count of letters')\n",
    "plt.title('Top 100 Sentence %')\n",
    "plt.show() "
   ]
  },
  {
   "cell_type": "code",
   "execution_count": null,
   "metadata": {},
   "outputs": [],
   "source": [
    "count = 0\n",
    "alphabet_only_sent = {}\n",
    "\n",
    "print(\"\\nTop 100 sentences by length\")\n",
    "for key,value in sorted_sent.items():\n",
    "    print(key,\": \",value)\n",
    "    \n",
    "    alphabet_only = re.sub('[^A-Za-z]','',key)\n",
    "    alphabet_only_sent[key] = len(alphabet_only)\n",
    "    count += 1\n",
    "    if count == 100:\n",
    "        break"
   ]
  },
  {
   "cell_type": "code",
   "execution_count": null,
   "metadata": {},
   "outputs": [],
   "source": [
    "alphabet_only_sent = sorted(alphabet_only_sent.items(),key=lambda j: j[1],reverse=True)\n",
    "alphabet_only_sent = dict(alphabet_only_sent)\n",
    "print(\"\\nTop 10 sentence with highest alphabets\")\n",
    "for key,value in alphabet_only_sent.items():\n",
    "    print(key,\": \",value)"
   ]
  },
  {
   "cell_type": "code",
   "execution_count": null,
   "metadata": {},
   "outputs": [],
   "source": [
    "# for csv file\n",
    "sentence_alphabet_only_top_10 = itertools.islice(sorted_sent.items(),0,10)\n",
    "sentence_alphabet_only_top_10 = dict(sentence_alphabet_only_top_10)\n",
    "with open('sentence_alphabet_only_top_10.csv','a') as file:\n",
    "  w = csv.DictWriter(file,fieldnames=['sentence','letter_count'])\n",
    "  w.writeheader()\n",
    "  w = csv.writer(file)\n",
    "  w.writerows(sentence_alphabet_only_top_10.items())\n",
    "  \n"
   ]
  },
  {
   "cell_type": "code",
   "execution_count": null,
   "metadata": {},
   "outputs": [],
   "source": [
    "# for visualization\n",
    "\n",
    "plt.bar(range(len(sentence_alphabet_only_top_10)),sentence_alphabet_only_top_10.values(),color='b')\n",
    "plt.xlabel('sentence with alphabets only')\n",
    "plt.ylabel('count of letters')\n",
    "plt.title('Top 10 Sentence(alphabet only) %')\n",
    "plt.show()"
   ]
  }
 ],
 "metadata": {
  "kernelspec": {
   "display_name": "Python 3",
   "language": "python",
   "name": "python3"
  },
  "language_info": {
   "codemirror_mode": {
    "name": "ipython",
    "version": 3
   },
   "file_extension": ".py",
   "mimetype": "text/x-python",
   "name": "python",
   "nbconvert_exporter": "python",
   "pygments_lexer": "ipython3",
   "version": "3.6.8"
  }
 },
 "nbformat": 4,
 "nbformat_minor": 2
}
